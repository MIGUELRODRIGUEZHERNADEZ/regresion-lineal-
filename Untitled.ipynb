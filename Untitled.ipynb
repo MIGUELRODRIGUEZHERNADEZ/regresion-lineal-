import numpy as np
import matplotlib.pyplot as plt
import pandas as pd
import seaborn as sns
from sklearn.model_selection import train_test_split
from sklearn.linear_model import LinearRegression
from sklearn.metrics import mean_squared_error, r2_score

# Cargar el archivo CSV
df = pd.read_csv("pokedex.csv")

# Seleccionar las características y la variable objetivo
features = ["height", "weight"]
target = "attack"

X = df[features]
y = df[target]

# Dividir los datos en conjunto de entrenamiento y prueba
X_train, X_test, y_train, y_test = train_test_split(X, y, test_size=0.2, random_state=42)

# Crear el modelo de regresión lineal
model = LinearRegression()
model.fit(X_train, y_train)

# Hacer predicciones
y_pred = model.predict(X_test)

# Evaluación del modelo
mse = mean_squared_error(y_test, y_pred)
r2 = r2_score(y_test, y_pred)
print(f"Error cuadrático medio: {mse}")
print(f"Coeficiente de determinación R^2: {r2}")

# Visualización de los resultados
plt.figure(figsize=(12, 5))

for i, col in enumerate(features):
    plt.subplot(1, len(features), i + 1)
    plt.scatter(X_test[col], y_test, marker='o', alpha=0.5, label="Datos reales")
    plt.scatter(X_test[col], y_pred, marker='x', color='red', label="Predicciones")
    plt.xlabel(col)
    plt.ylabel(target)
    plt.title(f"Regresión lineal: {col} vs {target}")
    plt.legend()

plt.show()
